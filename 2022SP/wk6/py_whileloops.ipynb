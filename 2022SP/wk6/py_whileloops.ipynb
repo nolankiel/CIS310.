{
 "cells": [
  {
   "cell_type": "markdown",
   "metadata": {},
   "source": [
    "# Nolan Kiel\n",
    "## Week 6: 2/24/2022\n",
    "### Python While loops"
   ]
  },
  {
   "cell_type": "code",
   "execution_count": 3,
   "metadata": {},
   "outputs": [
    {
     "ename": "SyntaxError",
     "evalue": "invalid syntax (<ipython-input-3-5f38d1f007f6>, line 6)",
     "output_type": "error",
     "traceback": [
      "\u001b[1;36m  File \u001b[1;32m\"<ipython-input-3-5f38d1f007f6>\"\u001b[1;36m, line \u001b[1;32m6\u001b[0m\n\u001b[1;33m    print('num is currently:'num'')\u001b[0m\n\u001b[1;37m                               ^\u001b[0m\n\u001b[1;31mSyntaxError\u001b[0m\u001b[1;31m:\u001b[0m invalid syntax\n"
     ]
    }
   ],
   "source": [
    "num = 0\n",
    "while num < 10:\n",
    "    if num % 2 ==1:\n",
    "        continue\n",
    "    else:\n",
    "        print('num is currently:'num'')\n",
    "        print('')\n",
    "\n"
   ]
  },
  {
   "cell_type": "code",
   "execution_count": 13,
   "metadata": {},
   "outputs": [
    {
     "name": "stdout",
     "output_type": "stream",
     "text": [
      "c\n",
      "s\n",
      "1\n",
      "D\n",
      "t\n",
      "A\n",
      "a\n",
      "y\n",
      "i\n",
      "s\n",
      "l\n",
      "s\n"
     ]
    }
   ],
   "source": [
    "#Pass\n",
    "a = 'cis310DataAnalyticsClass'\n",
    "i = 0\n",
    "\n",
    "while i < len(a):\n",
    "    if (i % 2 ==0):\n",
    "        print(a[i])\n",
    "    else:\n",
    "        pass\n",
    "    i+=1"
   ]
  },
  {
   "cell_type": "code",
   "execution_count": 10,
   "metadata": {},
   "outputs": [
    {
     "name": "stdout",
     "output_type": "stream",
     "text": [
      "num is currently: 1\n",
      "num is less that 10, now adding 1 to num, if num !=5\n",
      "num is currently: 2\n",
      "num is less that 10, now adding 1 to num, if num !=5\n",
      "num is currently: 3\n",
      "num is less that 10, now adding 1 to num, if num !=5\n",
      "num is currently: 4\n",
      "num is less that 10, now adding 1 to num, if num !=5\n",
      "num is currently: 5\n",
      "num is less that 10, now adding 1 to num, if num !=5\n"
     ]
    }
   ],
   "source": [
    "#break keyword\n",
    "\n",
    "num = 1\n",
    "\n",
    "while num < 10:\n",
    "    print('num is currently:',num)\n",
    "    print('num is less that 10, now adding 1 to num, if num !=5')\n",
    "    if num == 5:\n",
    "        break\n",
    "    num+=1\n"
   ]
  },
  {
   "cell_type": "code",
   "execution_count": 17,
   "metadata": {},
   "outputs": [
    {
     "name": "stdout",
     "output_type": "stream",
     "text": [
      "The Current Letter:  c\n",
      "The Current Letter:  i\n",
      "The Current Letter:  s\n",
      "The Current Letter:  3\n"
     ]
    }
   ],
   "source": [
    "#break the loop as soon as it sees 'a'\n",
    "# or '1'\n",
    "a = 'cis310DataAnalyticsClass'\n",
    "i = 0\n",
    "\n",
    "while i  < len(a):\n",
    "    if a[i] == 'a' or a[i] == '1':\n",
    "        break\n",
    "    print('The Current Letter: ',a[i])\n",
    "    i+=1"
   ]
  },
  {
   "cell_type": "code",
   "execution_count": 2,
   "metadata": {},
   "outputs": [
    {
     "name": "stdout",
     "output_type": "stream",
     "text": [
      "The Current Letter:  0  : c\n",
      "The Current Letter:  1  : i\n",
      "The Current Letter:  2  : s\n",
      "The Current Letter:  3  : 3\n",
      "The Current Letter:  5  : 0\n",
      "The Current Letter:  6  : D\n",
      "The Current Letter:  8  : t\n",
      "The Current Letter:  10  : A\n",
      "The Current Letter:  11  : n\n",
      "The Current Letter:  13  : l\n",
      "The Current Letter:  14  : y\n",
      "The Current Letter:  15  : t\n",
      "The Current Letter:  16  : i\n",
      "The Current Letter:  17  : c\n",
      "The Current Letter:  18  : s\n",
      "The Current Letter:  19  : C\n",
      "The Current Letter:  20  : l\n",
      "The Current Letter:  22  : s\n",
      "The Current Letter:  23  : s\n"
     ]
    }
   ],
   "source": [
    "# with continue\n",
    "\n",
    "a = 'cis310DataAnalyticsClass'\n",
    "i = 0\n",
    "\n",
    "while i < len(a):\n",
    "    if a[i] == 'a' or a[i] == '1':\n",
    "        i+=1\n",
    "        continue\n",
    "    print('The Current Letter: ',i, \" :\", a[i])\n",
    "    i+=1   "
   ]
  },
  {
   "cell_type": "code",
   "execution_count": null,
   "metadata": {},
   "outputs": [],
   "source": []
  }
 ],
 "metadata": {
  "kernelspec": {
   "display_name": "Python 3.7 - default",
   "language": "python",
   "name": "py37_default"
  },
  "language_info": {
   "codemirror_mode": {
    "name": "ipython",
    "version": 3
   },
   "file_extension": ".py",
   "mimetype": "text/x-python",
   "name": "python",
   "nbconvert_exporter": "python",
   "pygments_lexer": "ipython3",
   "version": "3.7.7"
  }
 },
 "nbformat": 4,
 "nbformat_minor": 4
}
