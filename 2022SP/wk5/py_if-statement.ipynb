{
 "cells": [
  {
   "cell_type": "markdown",
   "metadata": {},
   "source": [
    "# Nolan Kiel\n",
    "## Week 5: 2/15/2022\n",
    "### Python Statements [if,else,elif]"
   ]
  },
  {
   "cell_type": "markdown",
   "metadata": {},
   "source": [
    "**the format of the if-statement**\n",
    "***\n",
    "if conditional:\n",
    "    perform action1\n",
    "else: condition2:\n",
    "    perform action2\n",
    "else:\n",
    "    perform action3\n",
    "***"
   ]
  },
  {
   "cell_type": "code",
   "execution_count": 2,
   "metadata": {},
   "outputs": [
    {
     "name": "stdout",
     "output_type": "stream",
     "text": [
      "This is correct\n"
     ]
    }
   ],
   "source": [
    "# if statement\n",
    "if 5 > 4:\n",
    "    print(\"This is correct\")"
   ]
  },
  {
   "cell_type": "code",
   "execution_count": 4,
   "metadata": {},
   "outputs": [
    {
     "name": "stdout",
     "output_type": "stream",
     "text": [
      "10 is greater than 5\n"
     ]
    }
   ],
   "source": [
    "x = 10\n",
    "y = 5\n",
    "if x > y :\n",
    "    print(x, \"is greater than\",y)"
   ]
  },
  {
   "cell_type": "code",
   "execution_count": 6,
   "metadata": {},
   "outputs": [],
   "source": [
    "x = 10\n",
    "y = 5\n",
    "if x < y :\n",
    "    print(x, \"is smaller than\",y)"
   ]
  },
  {
   "cell_type": "code",
   "execution_count": 8,
   "metadata": {},
   "outputs": [
    {
     "name": "stdout",
     "output_type": "stream",
     "text": [
      "Hi Five!\n"
     ]
    }
   ],
   "source": [
    "# if-else statement\n",
    "value = 5\n",
    "if value ==5:\n",
    "    print(\"Hi Five!\")\n",
    "else: \n",
    "    print(\"Lets try again!\")"
   ]
  },
  {
   "cell_type": "code",
   "execution_count": 9,
   "metadata": {},
   "outputs": [
    {
     "name": "stdout",
     "output_type": "stream",
     "text": [
      "Lets try again!\n"
     ]
    }
   ],
   "source": [
    "value = 6\n",
    "if value ==5:\n",
    "    print(\"Hi Five!\")\n",
    "else: \n",
    "    print(\"Lets try again!\")"
   ]
  },
  {
   "cell_type": "code",
   "execution_count": 10,
   "metadata": {},
   "outputs": [
    {
     "name": "stdout",
     "output_type": "stream",
     "text": [
      "then, redo test2\n"
     ]
    }
   ],
   "source": [
    "test1 = 98\n",
    "test2 = 67\n",
    "\n",
    "if test1 < test2 :\n",
    "    print(\"You may redo test1\")\n",
    "else:\n",
    "    print(\"then, redo test2\")\n"
   ]
  },
  {
   "cell_type": "code",
   "execution_count": 1,
   "metadata": {},
   "outputs": [
    {
     "name": "stdout",
     "output_type": "stream",
     "text": [
      "A is cool!\n"
     ]
    }
   ],
   "source": [
    "value = 5 + 3\n",
    "if value == 8 :\n",
    "    print(\"A is cool!\")\n",
    "else:\n",
    "    print(\"Nolan is cool\")"
   ]
  },
  {
   "cell_type": "code",
   "execution_count": 12,
   "metadata": {},
   "outputs": [
    {
     "name": "stdout",
     "output_type": "stream",
     "text": [
      "redo test2\n"
     ]
    }
   ],
   "source": [
    "if test2 < test1:\n",
    "    print('redo test2')"
   ]
  },
  {
   "cell_type": "code",
   "execution_count": 14,
   "metadata": {},
   "outputs": [
    {
     "name": "stdout",
     "output_type": "stream",
     "text": [
      "Test 2 is greater than test1!\n",
      "you may think about redoing test1, instead?\n"
     ]
    }
   ],
   "source": [
    "# if-elif statement\n",
    "test1 = 81\n",
    "test2 = 89\n",
    "if test1 > test2:\n",
    "    print(\"test1 is greater than test2!\")\n",
    "    print(\"you may think to do test2\")\n",
    "elif test2 > test1:\n",
    "    print(\"Test 2 is greater than test1!\")\n",
    "    print(\"you may think about redoing test1, instead?\")\n",
    "else: \n",
    "    print(\"test1 and test2 scores are equal\")\n",
    "    print(\"You may take either test1 or test2\")"
   ]
  },
  {
   "cell_type": "code",
   "execution_count": 3,
   "metadata": {},
   "outputs": [
    {
     "name": "stdout",
     "output_type": "stream",
     "text": [
      "Hi five!\n"
     ]
    }
   ],
   "source": [
    "# short band if statement\n",
    "if 5>4 : print('Hi five!')"
   ]
  },
  {
   "cell_type": "code",
   "execution_count": 4,
   "metadata": {},
   "outputs": [
    {
     "name": "stdout",
     "output_type": "stream",
     "text": [
      "1\n",
      "2\n",
      "3\n"
     ]
    }
   ],
   "source": [
    "if 'c' in 'cis310' : print('1');print('2'),print('3')"
   ]
  },
  {
   "cell_type": "code",
   "execution_count": 5,
   "metadata": {},
   "outputs": [
    {
     "name": "stdout",
     "output_type": "stream",
     "text": [
      "test1\n"
     ]
    }
   ],
   "source": [
    "# short hand if ... else\n",
    "test1 = 89\n",
    "test2 = 79\n",
    "print('test1') if test1 > test2 else print('test2')"
   ]
  },
  {
   "cell_type": "code",
   "execution_count": 7,
   "metadata": {},
   "outputs": [
    {
     "name": "stdout",
     "output_type": "stream",
     "text": [
      "let's go to the beach\n"
     ]
    }
   ],
   "source": [
    "raining = False\n",
    "print(\"let's go to the\", 'beach' if not raining else 'rec center')"
   ]
  },
  {
   "cell_type": "code",
   "execution_count": 8,
   "metadata": {},
   "outputs": [
    {
     "name": "stdout",
     "output_type": "stream",
     "text": [
      "let's go to the rec center\n"
     ]
    }
   ],
   "source": [
    "raining = True\n",
    "print(\"let's go to the\", 'beach' if not raining else 'rec center')"
   ]
  },
  {
   "cell_type": "code",
   "execution_count": 9,
   "metadata": {},
   "outputs": [
    {
     "name": "stdout",
     "output_type": "stream",
     "text": [
      "Both conditions are evaluated to True!\n"
     ]
    }
   ],
   "source": [
    "# and\n",
    "s1, s2, s3 = 89, 75, 92\n",
    "if (s1 > s2) and (s3 > s2):\n",
    "    print('Both conditions are evaluated to True!')\n",
    "    "
   ]
  },
  {
   "cell_type": "code",
   "execution_count": 10,
   "metadata": {},
   "outputs": [],
   "source": [
    "# using PASS - do nothing\n",
    "\n",
    "if s1 > 60:\n",
    "    pass"
   ]
  },
  {
   "cell_type": "code",
   "execution_count": 11,
   "metadata": {},
   "outputs": [
    {
     "name": "stdout",
     "output_type": "stream",
     "text": [
      "The 'who' word is in the list\n"
     ]
    }
   ],
   "source": [
    "if 'who' in ['what','which','where','Who','how','who']: print(\"The 'who' word is in the list\")"
   ]
  },
  {
   "cell_type": "code",
   "execution_count": 13,
   "metadata": {},
   "outputs": [
    {
     "name": "stdout",
     "output_type": "stream",
     "text": [
      "Hello Joe\n",
      "I don't know who you are\n"
     ]
    }
   ],
   "source": [
    "# easy way t use built-in functions, instead of if statement\n",
    "names = {'Fred': 'Hello Fred', 'Rama': 'Hello Rama','Joe': 'Hello Joe', 'Alice': 'Hello Alice'}\n",
    "\n",
    "print(names.get('Joe',\"I don't know who you are\"))\n",
    "print(names.get('Rick',\"I don't know who you are\"))\n"
   ]
  },
  {
   "cell_type": "code",
   "execution_count": null,
   "metadata": {},
   "outputs": [],
   "source": []
  }
 ],
 "metadata": {
  "kernelspec": {
   "display_name": "Python 3.7 - default",
   "language": "python",
   "name": "py37_default"
  },
  "language_info": {
   "codemirror_mode": {
    "name": "ipython",
    "version": 3
   },
   "file_extension": ".py",
   "mimetype": "text/x-python",
   "name": "python",
   "nbconvert_exporter": "python",
   "pygments_lexer": "ipython3",
   "version": "3.7.7"
  }
 },
 "nbformat": 4,
 "nbformat_minor": 4
}
